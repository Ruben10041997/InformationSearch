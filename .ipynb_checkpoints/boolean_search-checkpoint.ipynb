{
 "cells": [
  {
   "cell_type": "code",
   "execution_count": null,
   "metadata": {},
   "outputs": [],
   "source": [
    "from pymystem3 import Mystem\n",
    "from glob import glob\n",
    "import numpy as np\n",
    "import linecache as lc\n",
    "import tkinter\n",
    "from tkinter import *"
   ]
  },
  {
   "cell_type": "code",
   "execution_count": null,
   "metadata": {},
   "outputs": [],
   "source": [
    "INDEX_PATH = 'inverse-index-boolean/'\n",
    "LINK_STORAGE_PATH = 'text/index.txt'"
   ]
  },
  {
   "cell_type": "code",
   "execution_count": null,
   "metadata": {},
   "outputs": [],
   "source": [
    "def get_lemmas(query):\n",
    "    return Mystem().lemmatize(query)"
   ]
  },
  {
   "cell_type": "code",
   "execution_count": null,
   "metadata": {},
   "outputs": [],
   "source": [
    "def find_in_index(query_lemmas):\n",
    "    one_hots = []\n",
    "    result = []\n",
    "    \n",
    "    for lemma in query_lemmas:\n",
    "        files = glob(INDEX_PATH + lemma + '.txt')\n",
    "        if files:\n",
    "            with open(files[0], 'r') as file:\n",
    "                one_hots.append([int(digit) for digit in file.readlines()])\n",
    "        else:\n",
    "            return result\n",
    "    \n",
    "    one_hots_np = np.array(one_hots)\n",
    "    one_hots = one_hots_np.reshape([one_hots_np.shape[1], one_hots_np.shape[0]]).tolist()\n",
    "    \n",
    "    i = 0\n",
    "    for one_hot in one_hots:\n",
    "        if 0 not in one_hot:\n",
    "            result.append(i)\n",
    "        i += 1\n",
    "    \n",
    "    return result"
   ]
  },
  {
   "cell_type": "code",
   "execution_count": null,
   "metadata": {},
   "outputs": [],
   "source": [
    "def search(query):\n",
    "    query_lemmas = get_lemmas(query)\n",
    "    query_lemmas = [lemma for lemma in query_lemmas if lemma not in [' ', '\\n']]\n",
    "    print('Query lemmas:', query_lemmas)\n",
    "    docs = find_in_index(query_lemmas)\n",
    "\n",
    "    links = []\n",
    "    \n",
    "    for doc in docs:\n",
    "        links.append(lc.getline(LINK_STORAGE_PATH, doc + 1)[:-1])\n",
    "    \n",
    "    return links"
   ]
  },
  {
   "cell_type": "code",
   "execution_count": null,
   "metadata": {},
   "outputs": [],
   "source": [
    "def button_click():\n",
    "    listbox.delete(0, listbox.size() - 1)\n",
    "    err_label.grid_remove()\n",
    "    \n",
    "    query = text_field.get()\n",
    "    if not query:\n",
    "        err_label.grid()\n",
    "        return\n",
    "    \n",
    "    links = search(query)\n",
    "    \n",
    "    if not links:\n",
    "        listbox.insert(0, 'Ничего не найдено')\n",
    "        return\n",
    "    \n",
    "    index = 0\n",
    "    for link in links:\n",
    "        listbox.insert(index, link)\n",
    "        index += 1"
   ]
  },
  {
   "cell_type": "code",
   "execution_count": null,
   "metadata": {},
   "outputs": [],
   "source": [
    "root = tkinter.Tk()\n",
    "root.title('Boolean search')\n",
    "\n",
    "label = Label(root, text='Введите запрос', bd=5, font='timesnewroman 10')\n",
    "err_label = Label(root, text='Вы ничего не ввели!', bd=5, fg='red', font='timesnewroman 10')\n",
    "text_field = Entry(root, bd=2, width=37, font='timesnewroman 10')\n",
    "button = Button(root, text='Искать', bd=2, command=button_click, font='timesnewroman 10')\n",
    "\n",
    "label.grid(columnspan=3, padx=3, pady=3, sticky='W')\n",
    "err_label.grid(row=1, columnspan=3, padx=3, pady=3, sticky='W')\n",
    "err_label.grid_remove()\n",
    "text_field.grid(row=2, columnspan=2, padx=3, pady=3)\n",
    "button.grid(row=2, column=2, padx=3, pady=3, sticky='E')\n",
    "\n",
    "listbox = Listbox(root, bd=2, width=55, height=15, font='timesnewroman 10')\n",
    "listbox.yview()\n",
    "listbox.grid(row=3, columnspan=3, padx=3, pady=3)\n",
    "\n",
    "root.mainloop()"
   ]
  }
 ],
 "metadata": {
  "kernelspec": {
   "display_name": "Python 3",
   "language": "python",
   "name": "python3"
  },
  "language_info": {
   "codemirror_mode": {
    "name": "ipython",
    "version": 3
   },
   "file_extension": ".py",
   "mimetype": "text/x-python",
   "name": "python",
   "nbconvert_exporter": "python",
   "pygments_lexer": "ipython3",
   "version": "3.7.0"
  }
 },
 "nbformat": 4,
 "nbformat_minor": 2
}
