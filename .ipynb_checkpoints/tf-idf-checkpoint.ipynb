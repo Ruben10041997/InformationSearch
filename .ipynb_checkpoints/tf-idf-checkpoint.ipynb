{
 "cells": [
  {
   "cell_type": "code",
   "execution_count": 19,
   "metadata": {},
   "outputs": [
    {
     "ename": "SyntaxError",
     "evalue": "can't assign to operator (<ipython-input-19-2caf052bf7fe>, line 5)",
     "output_type": "error",
     "traceback": [
      "\u001b[0;36m  File \u001b[0;32m\"<ipython-input-19-2caf052bf7fe>\"\u001b[0;36m, line \u001b[0;32m5\u001b[0m\n\u001b[0;31m    tf-idf_path = 'tf-idf/'\u001b[0m\n\u001b[0m                           ^\u001b[0m\n\u001b[0;31mSyntaxError\u001b[0m\u001b[0;31m:\u001b[0m can't assign to operator\n"
     ]
    }
   ],
   "source": [
    "from collections import Counter\n",
    "import math\n",
    "\n",
    "docs_path = 'lemmatized-texts/'\n",
    "tf_idf_path = 'tf-idf/'\n",
    "index = 1\n",
    "\n",
    "corpus=[]\n",
    "\n",
    "for i in range(1, 101):\n",
    "    with open(docs_path + str(i) + '.txt', 'r') as file:\n",
    "        words = file.readline().split('\\t')\n",
    "        corpus.append(words)\n",
    "\n",
    "def compute_tfidf(corpus):\n",
    "    \n",
    "    def compute_tf(text):\n",
    "        tf_text = Counter(text)\n",
    "        for i in tf_text:\n",
    "            tf_text[i] = tf_text[i]/float(len(text))\n",
    "        return tf_text\n",
    "    \n",
    "    def compute_idf(word, corpus):\n",
    "        return math.log10(len(corpus)/sum([1.0 for i in corpus if word in i]))\n",
    "    \n",
    "    documents_list = []\n",
    "    \n",
    "    for text in corpus:\n",
    "        tf_idf_dictionary = {}\n",
    "        computed_tf = compute_tf(text)\n",
    "        for word in computed_tf:\n",
    "            tf_idf_dictionary[word] = computed_tf[word] * compute_idf(word, corpus)\n",
    "            with open(tf-idf_path + str(index) + '.txt', 'w') as file:\n",
    "                file.write(tf_idf_dictionary)\n",
    "        print(str(index) + '.txt created')\n",
    "        index += 1 \n",
    "\n",
    "\n",
    "print (compute_tfidf(corpus))"
   ]
  },
  {
   "cell_type": "code",
   "execution_count": null,
   "metadata": {},
   "outputs": [],
   "source": []
  }
 ],
 "metadata": {
  "kernelspec": {
   "display_name": "Python 3",
   "language": "python",
   "name": "python3"
  }
 },
 "nbformat": 4,
 "nbformat_minor": 2
}
