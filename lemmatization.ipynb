{
 "cells": [
  {
   "cell_type": "code",
   "execution_count": 1,
   "metadata": {},
   "outputs": [],
   "source": [
    "from stop_words import get_stop_words\n",
    "from string import punctuation\n",
    "from string import digits\n",
    "from pymystem3 import Mystem"
   ]
  },
  {
   "cell_type": "code",
   "execution_count": 2,
   "metadata": {},
   "outputs": [],
   "source": [
    "texts_path = 'text/'\n",
    "lemmatized_texts_path = 'lemmatized-texts/'\n",
    "russian_stopwords = get_stop_words('russian')"
   ]
  },
  {
   "cell_type": "code",
   "execution_count": 3,
   "metadata": {},
   "outputs": [],
   "source": [
    "def lemmatize_text(text):\n",
    "    return Mystem().lemmatize(text.lower())"
   ]
  },
  {
   "cell_type": "code",
   "execution_count": 4,
   "metadata": {},
   "outputs": [],
   "source": [
    "def is_punctuation(word):\n",
    "    new_punctuation = punctuation + '«»–—\\n←→…'\n",
    "    for char in list(word):\n",
    "        if char in new_punctuation:\n",
    "            return True\n",
    "    return False"
   ]
  },
  {
   "cell_type": "code",
   "execution_count": 5,
   "metadata": {},
   "outputs": [],
   "source": [
    "def is_digit(word):\n",
    "    for char in list(word):\n",
    "        if char in digits:\n",
    "            return True\n",
    "    return False"
   ]
  },
  {
   "cell_type": "code",
   "execution_count": 6,
   "metadata": {
    "scrolled": false
   },
   "outputs": [],
   "source": [
    "def preprocess_text(text):\n",
    "    lemmas = lemmatize_text(text)\n",
    "    lemmas = [lemma + '\\t' for lemma in lemmas if lemma not in russian_stopwords \\\n",
    "             and lemma != ' ' \\\n",
    "             and not is_punctuation(lemma)]\n",
    "    return ''.join(lemmas)"
   ]
  },
  {
   "cell_type": "code",
   "execution_count": 7,
   "metadata": {},
   "outputs": [
    {
     "name": "stdout",
     "output_type": "stream",
     "text": [
      "1.txt completed\n",
      "2.txt completed\n",
      "3.txt completed\n",
      "4.txt completed\n",
      "5.txt completed\n",
      "6.txt completed\n",
      "7.txt completed\n",
      "8.txt completed\n",
      "9.txt completed\n",
      "10.txt completed\n",
      "11.txt completed\n",
      "12.txt completed\n",
      "13.txt completed\n",
      "14.txt completed\n",
      "15.txt completed\n",
      "16.txt completed\n",
      "17.txt completed\n",
      "18.txt completed\n",
      "19.txt completed\n",
      "20.txt completed\n",
      "21.txt completed\n",
      "22.txt completed\n",
      "23.txt completed\n",
      "24.txt completed\n",
      "25.txt completed\n",
      "26.txt completed\n",
      "27.txt completed\n",
      "28.txt completed\n",
      "29.txt completed\n",
      "30.txt completed\n",
      "31.txt completed\n",
      "32.txt completed\n",
      "33.txt completed\n",
      "34.txt completed\n",
      "35.txt completed\n",
      "36.txt completed\n",
      "37.txt completed\n",
      "38.txt completed\n",
      "39.txt completed\n",
      "40.txt completed\n",
      "41.txt completed\n",
      "42.txt completed\n",
      "43.txt completed\n",
      "44.txt completed\n",
      "45.txt completed\n",
      "46.txt completed\n",
      "47.txt completed\n",
      "48.txt completed\n",
      "49.txt completed\n",
      "50.txt completed\n",
      "51.txt completed\n",
      "52.txt completed\n",
      "53.txt completed\n",
      "54.txt completed\n",
      "55.txt completed\n",
      "56.txt completed\n",
      "57.txt completed\n",
      "58.txt completed\n",
      "59.txt completed\n",
      "60.txt completed\n",
      "61.txt completed\n",
      "62.txt completed\n",
      "63.txt completed\n",
      "64.txt completed\n",
      "65.txt completed\n",
      "66.txt completed\n",
      "67.txt completed\n",
      "68.txt completed\n",
      "69.txt completed\n",
      "70.txt completed\n",
      "71.txt completed\n",
      "72.txt completed\n",
      "73.txt completed\n",
      "74.txt completed\n",
      "75.txt completed\n",
      "76.txt completed\n",
      "77.txt completed\n",
      "78.txt completed\n",
      "79.txt completed\n",
      "80.txt completed\n",
      "81.txt completed\n",
      "82.txt completed\n",
      "83.txt completed\n",
      "84.txt completed\n",
      "85.txt completed\n",
      "86.txt completed\n",
      "87.txt completed\n",
      "88.txt completed\n",
      "89.txt completed\n",
      "90.txt completed\n",
      "91.txt completed\n",
      "92.txt completed\n",
      "93.txt completed\n",
      "94.txt completed\n",
      "95.txt completed\n",
      "96.txt completed\n",
      "97.txt completed\n",
      "98.txt completed\n",
      "99.txt completed\n",
      "100.txt completed\n"
     ]
    }
   ],
   "source": [
    "for i in range(1, 101):\n",
    "    with open(texts_path + str(i) + '.txt', 'r') as file:\n",
    "        lines = file.readlines()\n",
    "        \n",
    "    lemmas_str = preprocess_text(lines[0])\n",
    "    \n",
    "    with open(lemmatized_texts_path + str(i) + '.txt', 'w') as file:\n",
    "        file.write(lemmas_str)\n",
    "    \n",
    "    print(str(i) + '.txt completed')"
   ]
  }
 ],
 "metadata": {
  "kernelspec": {
   "display_name": "Python 3",
   "language": "python",
   "name": "python3"
  },
  "language_info": {
   "codemirror_mode": {
    "name": "ipython",
    "version": 3
   },
   "file_extension": ".py",
   "mimetype": "text/x-python",
   "name": "python",
   "nbconvert_exporter": "python",
   "pygments_lexer": "ipython3",
   "version": "3.7.0"
  }
 },
 "nbformat": 4,
 "nbformat_minor": 2
}
